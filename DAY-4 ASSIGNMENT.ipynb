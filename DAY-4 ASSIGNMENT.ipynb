{
 "cells": [
  {
   "cell_type": "markdown",
   "metadata": {},
   "source": [
    "# OCCURENCE AND ITS INDEX"
   ]
  },
  {
   "cell_type": "code",
   "execution_count": 75,
   "metadata": {},
   "outputs": [
    {
     "name": "stdout",
     "output_type": "stream",
     "text": [
      "THE OCCURENCE .WE. IS: 3 and the index is: 5\n",
      "THE OCCURENCE OF .W. IS: 3 and the index is: 21\n",
      "THE OCCURENCE OF .WE. WITHIN THE RANGE GIVEN IS: 1 and the index is: 5\n"
     ]
    }
   ],
   "source": [
    "str=\"what we think we become;we are python programmer\"\n",
    "print(\"THE OCCURENCE .WE. IS:\",str.count(\"we\"),\"and the index is:\",str.index(\"we\"))\n",
    "print(\"THE OCCURENCE OF .W. IS:\",str.count(\"m\"),\"and the index is:\",str.index('m'))\n",
    "print(\"THE OCCURENCE OF .WE. WITHIN THE RANGE GIVEN IS:\",str.count(\"we\",2,9),\"and the index is:\",str.index(\"we\"))"
   ]
  },
  {
   "cell_type": "markdown",
   "metadata": {},
   "source": [
    "# islower()  and isupper()"
   ]
  },
  {
   "cell_type": "code",
   "execution_count": 63,
   "metadata": {},
   "outputs": [
    {
     "name": "stdout",
     "output_type": "stream",
     "text": [
      "False\n",
      "False\n"
     ]
    }
   ],
   "source": [
    "str=\"STdfrhyk@\"\n",
    "print(str.islower())\n",
    "print(str.isupper())"
   ]
  },
  {
   "cell_type": "code",
   "execution_count": 61,
   "metadata": {},
   "outputs": [
    {
     "name": "stdout",
     "output_type": "stream",
     "text": [
      "True\n",
      "False\n"
     ]
    }
   ],
   "source": [
    "str=\"STRYHUETU\"\n",
    "print(str.isupper())\n",
    "print(str.islower())"
   ]
  },
  {
   "cell_type": "code",
   "execution_count": 64,
   "metadata": {},
   "outputs": [
    {
     "name": "stdout",
     "output_type": "stream",
     "text": [
      "False\n",
      "False\n"
     ]
    }
   ],
   "source": [
    "name=\"karthik\"\n",
    "print(str.isupper())\n",
    "print(str.islower())"
   ]
  },
  {
   "cell_type": "code",
   "execution_count": 65,
   "metadata": {},
   "outputs": [
    {
     "name": "stdout",
     "output_type": "stream",
     "text": [
      "False\n",
      "False\n"
     ]
    }
   ],
   "source": [
    "anonymous=\"2werdtfAWE\"\n",
    "print(str.isupper())\n",
    "print(str.islower())"
   ]
  },
  {
   "cell_type": "code",
   "execution_count": null,
   "metadata": {},
   "outputs": [],
   "source": []
  },
  {
   "cell_type": "code",
   "execution_count": null,
   "metadata": {},
   "outputs": [],
   "source": []
  }
 ],
 "metadata": {
  "kernelspec": {
   "display_name": "Python 3",
   "language": "python",
   "name": "python3"
  },
  "language_info": {
   "codemirror_mode": {
    "name": "ipython",
    "version": 3
   },
   "file_extension": ".py",
   "mimetype": "text/x-python",
   "name": "python",
   "nbconvert_exporter": "python",
   "pygments_lexer": "ipython3",
   "version": "3.7.6"
  }
 },
 "nbformat": 4,
 "nbformat_minor": 4
}
